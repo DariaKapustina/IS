{
 "cells": [
  {
   "cell_type": "code",
   "execution_count": 17,
   "metadata": {},
   "outputs": [
    {
     "name": "stdout",
     "output_type": "stream",
     "text": [
      "Computing the cosine similarity matrix...\n",
      "Done computing similarity matrix.\n"
     ]
    }
   ],
   "source": [
    "import io\n",
    "from collections import defaultdict\n",
    "from surprise import KNNWithMeans\n",
    "from surprise import Dataset\n",
    "from surprise import get_dataset_dir\n",
    "k=4\n",
    "n=5\n",
    "user=\"7\"\n",
    "\n",
    "data = Dataset.load_builtin('ml-100k')\n",
    "trainset = data.build_full_trainset()\n",
    "sim_options = {'name': 'cosine',\n",
    "               'user_based': True,\n",
    "               'min_support': n\n",
    "               }\n",
    "algo = KNNWithMeans(k=k, min_k=k, sim_options=sim_options, verbose=True)\n",
    "algo.fit(trainset)\n",
    "\n",
    "testset = trainset.build_anti_testset()\n",
    "predictions = algo.test(filter(lambda x: x[0] == user, testset))"
   ]
  },
  {
   "cell_type": "code",
   "execution_count": 18,
   "metadata": {},
   "outputs": [],
   "source": [
    "def get_top_n(predictions, n):\n",
    "    # First map the predictions to user.\n",
    "    top_n = defaultdict(list)\n",
    "    for uid, iid, true_r, est, _ in predictions:\n",
    "        top_n[uid].append((iid, est))\n",
    "    # Then sort the predictions and retrieve the k highest ones.\n",
    "    for uid, user_ratings in top_n.items():\n",
    "        user_ratings.sort(key=lambda x: x[1], reverse=True)\n",
    "        top_n[uid] = user_ratings[:n]\n",
    "    return top_n\n",
    "\n",
    "def read_item_names():\n",
    "    file_name = get_dataset_dir() + '/ml-100k/ml-100k/u.item'\n",
    "    rid_to_name = {}\n",
    "    with io.open(file_name, 'r', encoding='ISO-8859-1') as f:\n",
    "        for line in f:\n",
    "            line = line.split('|')\n",
    "            rid_to_name[line[0]] = (line[1], line[2])\n",
    "    return rid_to_name\n"
   ]
  },
  {
   "cell_type": "code",
   "execution_count": 19,
   "metadata": {},
   "outputs": [
    {
     "name": "stdout",
     "output_type": "stream",
     "text": [
      "user:  7\n",
      " 328  ('Conspiracy Theory (1997)', '08-Aug-1997')                         5  \n",
      "1367  ('Faust (1994)', '01-Jan-1994')                                     5  \n",
      "1512  ('World of Apu, The (Apur Sansar) (1959)', '05-Apr-1996')         4.968\n",
      "1449  ('Pather Panchali (1955)', '22-Mar-1996')                         4.968\n",
      " 315  ('Apt Pupil (1998)', '23-Oct-1998')                               4.949\n"
     ]
    }
   ],
   "source": [
    "# Read the mappings raw id <-> movie name\n",
    "rid_to_name = read_item_names()\n",
    "top_n = get_top_n(predictions, n)\n",
    "\n",
    "# Print the recommended items\n",
    "print(\"user: \", user)\n",
    "for iid in top_n[user]:\n",
    "    print('{:^5} {:<65} {:^5}'.format(iid[0], str(rid_to_name[str(iid[0])]), round(iid[1], 3)))"
   ]
  },
  {
   "cell_type": "code",
   "execution_count": 16,
   "metadata": {},
   "outputs": [],
   "source": [
    "res = []\n",
    "for iid in top_n[user]:\n",
    "    res.append('{} {} {}'.format(iid[0], str(rid_to_name[str(iid[0])]), round(iid[1], 3)))\n",
    "\n",
    "result = {\n",
    "    'user': user,\n",
    "    'recommended items': res,\n",
    "}\n",
    "import json\n",
    "json_file = open(\"output2.json\",'w')\n",
    "json_file.write(json.dumps(result))\n",
    "json_file.close()"
   ]
  },
  {
   "cell_type": "code",
   "execution_count": null,
   "metadata": {},
   "outputs": [],
   "source": []
  }
 ],
 "metadata": {
  "kernelspec": {
   "display_name": "Python 3",
   "language": "python",
   "name": "python3"
  },
  "language_info": {
   "codemirror_mode": {
    "name": "ipython",
    "version": 3
   },
   "file_extension": ".py",
   "mimetype": "text/x-python",
   "name": "python",
   "nbconvert_exporter": "python",
   "pygments_lexer": "ipython3",
   "version": "3.7.4"
  }
 },
 "nbformat": 4,
 "nbformat_minor": 2
}
