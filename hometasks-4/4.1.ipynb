{
 "cells": [
  {
   "cell_type": "markdown",
   "metadata": {},
   "source": [
    "1. Квадраты всех четных чисел (используя map и filter)"
   ]
  },
  {
   "cell_type": "code",
   "execution_count": 1,
   "metadata": {},
   "outputs": [
    {
     "data": {
      "text/plain": [
       "[4, 100, 36, 64, 16]"
      ]
     },
     "execution_count": 1,
     "metadata": {},
     "output_type": "execute_result"
    }
   ],
   "source": [
    "list1 = [1, 2, 5, 10, 6, 8, 4, 3]\n",
    "list(map(lambda x : x*x, filter(lambda x : x%2==0, list1)))"
   ]
  },
  {
   "cell_type": "markdown",
   "metadata": {},
   "source": [
    "2. Дана входная строка и массив чисел, необходимо вернуть строкус теми буквами, которые стоят на указанных местах (два варианта, используя и не используя list comprehensions)"
   ]
  },
  {
   "cell_type": "code",
   "execution_count": 2,
   "metadata": {},
   "outputs": [
    {
     "name": "stdout",
     "output_type": "stream",
     "text": [
      "смп\n",
      "смп\n"
     ]
    }
   ],
   "source": [
    "str1 = \"Всем привет\"\n",
    "list1 = [1,3,5]\n",
    "\n",
    "# list comprehensions\n",
    "res2 = \"\".join([str1[x] for x in list1])\n",
    "\n",
    "#без list comprehensions\n",
    "res1=[]\n",
    "for x in list1:\n",
    "    res1.append(str1[x])\n",
    "res1 = \"\".join(res1)\n",
    "\n",
    "# или как генератор?\n",
    "#res1 = \"\".join((str1[x] for x in list1))\n",
    "\n",
    "print(res1)\n",
    "print(res2)"
   ]
  },
  {
   "cell_type": "markdown",
   "metadata": {},
   "source": [
    "3. Вернуть текст, в котором все буквы в нижнем регистре, а первые буквы каждого предложения – в верхнем. "
   ]
  },
  {
   "cell_type": "code",
   "execution_count": 7,
   "metadata": {},
   "outputs": [
    {
     "name": "stdout",
     "output_type": "stream",
     "text": [
      "мОгучий пРИбой С грохотом разбивается о выступ скалы. мраЧнЫе грОзовые тучи затянули небо... бЫла здесь красота, и она влекла неодолимо. \n",
      "\n",
      "Могучий прибой с грохотом разбивается о выступ скалы. Мрачные грозовые тучи затянули небо. Была здесь красота, и она влекла неодолимо\n"
     ]
    }
   ],
   "source": [
    "str2 = \"мОгучий пРИбой С грохотом разбивается о выступ скалы. мраЧнЫе грОзовые тучи затянули небо... бЫла здесь красота, и она влекла неодолимо.\"\n",
    "sent = str2.split(\".\")\n",
    "sent = [s.strip().lower() for s in sent]\n",
    "res = \". \".join([s[0].upper() + s[1:] for s in sent if s])\n",
    "\n",
    "print(str2, \"\\n\")\n",
    "print(res)"
   ]
  },
  {
   "cell_type": "markdown",
   "metadata": {},
   "source": [
    "4. functools.reduce"
   ]
  },
  {
   "cell_type": "code",
   "execution_count": 8,
   "metadata": {},
   "outputs": [
    {
     "data": {
      "text/plain": [
       "15"
      ]
     },
     "execution_count": 8,
     "metadata": {},
     "output_type": "execute_result"
    }
   ],
   "source": [
    "def funcReduce(function, iterable, initializer=None):\n",
    "    iterator = iter(iterable)\n",
    "    if initializer is None:\n",
    "        value = next(iterator)\n",
    "    else:\n",
    "        value = initializer\n",
    "    for i in iterator:\n",
    "        value = function(value, i)\n",
    "    return value\n",
    "\n",
    "funcReduce(lambda x, y: x+y, [1, 2, 3, 4, 5])"
   ]
  },
  {
   "cell_type": "markdown",
   "metadata": {},
   "source": [
    "5. Создайте функцию pipeline_each, в которую вы будете подавать итерируемый объект и список функций, которые последовательно надо к нему применить"
   ]
  },
  {
   "cell_type": "code",
   "execution_count": 44,
   "metadata": {},
   "outputs": [
    {
     "data": {
      "text/plain": [
       "[36, 64, 196, 484]"
      ]
     },
     "execution_count": 44,
     "metadata": {},
     "output_type": "execute_result"
    }
   ],
   "source": [
    "iterableObj = [1, 2, 5, 9]\n",
    "functions = [\n",
    "    lambda x: x+2,\n",
    "    lambda x: x*2,\n",
    "    lambda x: x*x\n",
    "]\n",
    "\n",
    "def pipeline_each(obj, funtions):\n",
    "    for func in functions:\n",
    "        for i, elem in enumerate(obj):\n",
    "            obj[i] = func(elem)\n",
    "    return obj\n",
    "        \n",
    "list(pipeline_each(iterableObj, functions))\n"
   ]
  },
  {
   "cell_type": "markdown",
   "metadata": {},
   "source": [
    "6. Написать генератор, возвращающий по очереди все слова, входящие в предложение"
   ]
  },
  {
   "cell_type": "code",
   "execution_count": 6,
   "metadata": {},
   "outputs": [
    {
     "name": "stdout",
     "output_type": "stream",
     "text": [
      "тут\n",
      "должно\n",
      "быть\n",
      "несколько\n",
      "слов\n"
     ]
    }
   ],
   "source": [
    "def wordGenerator(str):\n",
    "    words = str.split(\" \")\n",
    "    for word in words:\n",
    "        yield word\n",
    "str = \"тут должно быть несколько слов\"\n",
    "a = wordGenerator(str)\n",
    "for i in a:\n",
    "    print(i)"
   ]
  },
  {
   "cell_type": "markdown",
   "metadata": {},
   "source": [
    " 7. Написать генератор псевдо случайных чисел"
   ]
  },
  {
   "cell_type": "code",
   "execution_count": 151,
   "metadata": {},
   "outputs": [
    {
     "name": "stdout",
     "output_type": "stream",
     "text": [
      "0\n",
      "r1: 26616\n",
      "r2: 26616\n",
      "r3: 52460\n",
      "1\n",
      "r1: 19802\n",
      "r2: 19802\n",
      "r3: 53670\n",
      "2\n",
      "r1: 78284\n",
      "r2: 78284\n",
      "r3: 23240\n",
      "3\n",
      "r1: 18278\n",
      "r2: 18278\n",
      "r3: 38930\n",
      "4\n",
      "r1: 96776\n",
      "r2: 96776\n",
      "r3: 66660\n"
     ]
    }
   ],
   "source": [
    "import datetime as dt\n",
    "def numGenerator(seed):\n",
    "    while True:\n",
    "        seed = (dt.datetime.now().microsecond * seed + 345687850) % 100000\n",
    "        yield seed\n",
    "\n",
    "r1 = numGenerator(3)\n",
    "r2 = numGenerator(3)\n",
    "r3 = numGenerator(5)\n",
    "\n",
    "for i in range(5):\n",
    "    print(i)\n",
    "    print('r1: ' + str(next(r1)))\n",
    "    print('r2: ' + str(next(r2)))\n",
    "    print('r3: ' + str(next(r3)))"
   ]
  },
  {
   "cell_type": "markdown",
   "metadata": {},
   "source": [
    "8. Написать корутину, которая реализует бесконечную арифметическую прогрессию с возможностью перезапуска с любого места Написать корутину, которая реализует бесконечную арифметическую прогрессию с возможностью перезапуска с любого места"
   ]
  },
  {
   "cell_type": "code",
   "execution_count": 5,
   "metadata": {},
   "outputs": [
    {
     "name": "stdout",
     "output_type": "stream",
     "text": [
      "0\n",
      "1\n",
      "10\n",
      "11\n",
      "12\n"
     ]
    }
   ],
   "source": [
    "def cor():\n",
    "    i = 0\n",
    "    while True:\n",
    "        input = yield i\n",
    "        if input != None:\n",
    "            i = input\n",
    "        else:\n",
    "            i += 1\n",
    "        \n",
    "c = cor()\n",
    "print(next(c))\n",
    "print(next(c))\n",
    "print(c.send(10))\n",
    "print(next(c))\n",
    "print(next(c))"
   ]
  }
 ],
 "metadata": {
  "kernelspec": {
   "display_name": "Python 3",
   "language": "python",
   "name": "python3"
  },
  "language_info": {
   "codemirror_mode": {
    "name": "ipython",
    "version": 3
   },
   "file_extension": ".py",
   "mimetype": "text/x-python",
   "name": "python",
   "nbconvert_exporter": "python",
   "pygments_lexer": "ipython3",
   "version": "3.7.4"
  }
 },
 "nbformat": 4,
 "nbformat_minor": 2
}
