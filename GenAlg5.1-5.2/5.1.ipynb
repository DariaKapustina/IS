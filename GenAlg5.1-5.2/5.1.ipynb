{
 "cells": [
  {
   "cell_type": "code",
   "execution_count": 1,
   "metadata": {},
   "outputs": [
    {
     "name": "stdout",
     "output_type": "stream",
     "text": [
      "[(110.0, 1.1, 174.0), (1271.0, 1.1, 185.0), (1666.0, 1.1, 232.0), (506.0, 0.8, 133.0), (284.0, 0.7, 132.0), (760.0, 0.9, 115.0), (1333.0, 0.8, 316.0), (399.0, 0.8, 158.0), (518.0, 0.7, 226.0), (1503.0, 0.9, 198.0), (703.0, 1.1, 330.0), (1697.0, 1.2, 280.0), (1460.0, 0.6, 383.0), (1240.0, 0.6, 233.0), (602.0, 1.1, 140.0), (1385.0, 0.9, 234.0), (1112.0, 0.7, 169.0), (1641.0, 0.8, 243.0), (1247.0, 0.9, 265.0), (109.0, 1.0, 334.0), (969.0, 0.7, 367.0), (594.0, 0.6, 130.0), (475.0, 0.9, 121.0), (921.0, 0.8, 333.0), (1691.0, 0.7, 111.0), (884.0, 0.5, 159.0), (1500.0, 1.1, 328.0), (430.0, 0.9, 145.0), (1198.0, 0.9, 306.0), (802.0, 0.5, 168.0)]\n",
      "13000\n",
      "12\n"
     ]
    }
   ],
   "source": [
    "# библиотека почему-то не всегда работает с питоном 3, \n",
    "# поэтому пришлось установить для нее 2.7 версию (если вдруг оно не будет работать)\n",
    "from pyeasyga import pyeasyga\n",
    "\n",
    "with open(\"7.txt\", \"r\") as f:\n",
    "    txt = f.read()\n",
    "\n",
    "data = []\n",
    "arr = txt.split(\"\\n\")\n",
    "maxW = int(arr[0].split(\" \")[0])\n",
    "maxV = int(arr[0].split(\" \")[1])\n",
    "for i in arr[1:]:\n",
    "    a = i.split(' ')\n",
    "    data.append(tuple(map(float, i.split(' '))))\n",
    "print(data)\n",
    "print(maxW)\n",
    "print(maxV)"
   ]
  },
  {
   "cell_type": "code",
   "execution_count": 2,
   "metadata": {},
   "outputs": [
    {
     "name": "stdout",
     "output_type": "stream",
     "text": [
      "(3893.0, [0, 0, 0, 0, 0, 0, 1, 1, 1, 0, 1, 0, 1, 0, 0, 1, 0, 0, 1, 1, 1, 0, 0, 1, 0, 0, 1, 1, 1, 1])\n"
     ]
    }
   ],
   "source": [
    "ga = pyeasyga.GeneticAlgorithm(data)        # initialise the GA with data\n",
    "ga.population_size = 200                    # increase population size to 200\n",
    "\n",
    "# define a fitness function\n",
    "def fitness(individual, data):\n",
    "    weight, volume, price = 0, 0, 0\n",
    "    for (selected, item) in zip(individual, data):\n",
    "        if selected:\n",
    "            weight += item[0]\n",
    "            volume += item[1]\n",
    "            price += item[2]\n",
    "    if weight > maxW or volume > maxV:\n",
    "        price = 0\n",
    "    return price\n",
    "\n",
    "ga.fitness_function = fitness               # set the GA's fitness function\n",
    "ga.run()                                    # run the GA\n",
    "print ga.best_individual()"
   ]
  }
 ],
 "metadata": {
  "kernelspec": {
   "display_name": "Python 2",
   "language": "python",
   "name": "python2"
  },
  "language_info": {
   "codemirror_mode": {
    "name": "ipython",
    "version": 2
   },
   "file_extension": ".py",
   "mimetype": "text/x-python",
   "name": "python",
   "nbconvert_exporter": "python",
   "pygments_lexer": "ipython2",
   "version": "2.7.17"
  }
 },
 "nbformat": 4,
 "nbformat_minor": 2
}
